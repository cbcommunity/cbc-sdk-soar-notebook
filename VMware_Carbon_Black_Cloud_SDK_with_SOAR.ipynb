{
  "nbformat": 4,
  "nbformat_minor": 0,
  "metadata": {
    "colab": {
      "name": "VMware Carbon Black Cloud SDK with SOAR.ipynb",
      "provenance": [],
      "collapsed_sections": [],
      "toc_visible": true
    },
    "kernelspec": {
      "name": "python3",
      "display_name": "Python 3"
    },
    "language_info": {
      "name": "python"
    }
  },
  "cells": [
    {
      "cell_type": "markdown",
      "metadata": {
        "id": "zRsNe4bVY95_"
      },
      "source": [
        "## Import CBC SDK\n",
        "Check to see if the CBC SDK is installed. If it isn't, install it."
      ]
    },
    {
      "cell_type": "code",
      "metadata": {
        "id": "zuvLZXXLdTQQ"
      },
      "source": [
        "try:\n",
        "  from cbc_sdk.rest_api import CBCloudAPI\n",
        "  print('⬢ carbon-black-cloud-sdk is installed\\n')\n",
        "\n",
        "except:\n",
        "    print('⬢ carbon-black-cloud-sdk is missing. Installing the carbon-black-cloud-sdk module via pip.\\n')\n",
        "\n",
        "    from pip._internal import main as pipmain\n",
        "    pipmain(['install', 'carbon-black-cloud-sdk'])\n",
        "    \n",
        "    from cbc_sdk.rest_api import CBCloudAPI\n",
        "    print('\\n⬢ Installed the carbon-black-cloud-sdk module.')"
      ],
      "execution_count": null,
      "outputs": []
    },
    {
      "cell_type": "markdown",
      "metadata": {
        "id": "-qd9bd1Yjv0Q"
      },
      "source": [
        "## Get Basic Params\n",
        "This will prompt for API credentails, device_id, and other information required for this notebook"
      ]
    },
    {
      "cell_type": "code",
      "metadata": {
        "id": "KGKPdtwUj6Tz"
      },
      "source": [
        "import json\n",
        "\n",
        "\n",
        "url = input('Enter the URL of your Carbon Black Cloud instance: ')\n",
        "org_key = input('Enter the CBC Org Key: ')\n",
        "api_id = input('Enter the CBC API ID: ')\n",
        "api_key = input('Enter the CBC API Key: ')\n",
        "device_id = input('Enter the device_id of the endpoint you want to test with: ')\n",
        "\n",
        "api_token = '/'.join([api_key, api_id])\n",
        "cbc_sdk = CBCloudAPI(url=url, org_key=org_key, token=api_token)"
      ],
      "execution_count": null,
      "outputs": []
    },
    {
      "cell_type": "markdown",
      "metadata": {
        "id": "gS_JAbBrIog9"
      },
      "source": [
        "# SOAR Actions: Context"
      ]
    },
    {
      "cell_type": "markdown",
      "metadata": {
        "id": "UxOfov-bDsBR"
      },
      "source": [
        "## Get Alerts\n",
        "\n",
        "See the Alerts Documentation on [Readthedocs](https://carbon-black-cloud-python-sdk.readthedocs.io/en/latest/cbc_sdk.platform/#module-cbc_sdk.platform.alerts).\n",
        "\n",
        "---\n",
        "\n",
        "| Permission | CREATE | READ | UPDATE | EXECUTE | DELETE |\n",
        "| ---------- | :----: | :--: | :----: | :-----: | :----: |\n",
        "| **org.alerts** |  | ☑️ |  |  |  |\n",
        "\n"
      ]
    },
    {
      "cell_type": "code",
      "metadata": {
        "id": "2SC6W4MSbH-e"
      },
      "source": [
        "from cbc_sdk.platform import BaseAlert\n",
        "\n",
        "def get_alerts(query=\"\", window=\"-1d\", silent=False):\n",
        "    alert_query = cbc_sdk.select(BaseAlert).where(query).set_time_range(\"create_time\", range=window)\n",
        "    alerts = list(alert_query)\n",
        "    if not silent:\n",
        "      unique_device_ids = list(set([alert.device_id for alert in alerts]))\n",
        "      print(\"Found {} alert(s) across {} device(s)\".format(len(alerts), len(unique_device_ids)))\n",
        "      for device_id in unique_device_ids:\n",
        "          device_alerts = [alert for alert in alerts if alert.get(\"device_id\") == device_id]\n",
        "          print(\"\\tDevice {} (ID: {}) had {} alerts with sensor actions: {} and run states: {}\".format(\n",
        "                  \", \".join(list(set([alert.get(\"device_name\") for alert in device_alerts]))),\n",
        "                  device_id,\n",
        "                  len(device_alerts),\n",
        "                  # Getting a unique set of sensor actions when the sensor_action could be missing or null\n",
        "                  \", \".join(list(set([(alert.get(\"sensor_action\", \"ALLOW\") or \"ALLOW\") for alert in device_alerts]))),\n",
        "                  \", \".join(list(set([(alert.get(\"run_state\") or \"\") for alert in device_alerts])))))\n",
        "    return alerts"
      ],
      "execution_count": null,
      "outputs": []
    },
    {
      "cell_type": "code",
      "metadata": {
        "id": "hcpxePQJkHHD"
      },
      "source": [
        "query = \"device_id:{0}\".format(device_id)\n",
        "alerts = get_alerts(query=query, window=\"-1h\")"
      ],
      "execution_count": null,
      "outputs": []
    },
    {
      "cell_type": "markdown",
      "metadata": {
        "id": "vLfMloCzDwFq"
      },
      "source": [
        "## Get Processes\n",
        "Get all processes seen on a device within a certain time window\n",
        "\n",
        "See the Processes documentation on [Readthedocs](https://carbon-black-cloud-python-sdk.readthedocs.io/en/latest/cbc_sdk.platform/#module-cbc_sdk.platform.processes).\n",
        "\n",
        "---\n",
        "\n",
        "| Permission | CREATE | READ | UPDATE | EXECUTE | DELETE |\n",
        "| ---------- | :----: | :--: | :----: | :-----: | :----: |\n",
        "| **org.search.events** |    ☑️   |  ☑️   |       |         |        |"
      ]
    },
    {
      "cell_type": "code",
      "metadata": {
        "id": "bTAS3cLWfSO1"
      },
      "source": [
        "from cbc_sdk.platform import Process\n",
        "\n",
        "def get_processes(device_id, window=\"-1h\"):\n",
        "    query = cbc_sdk.select(Process).where(f\"device_id:{device_id}\").set_time_range(window=window)\n",
        "    query._default_args['fields'] = [\"*\", \"process_cmdline\"]\n",
        "    print(\"{0:16} {1:5} {2:30} {3:60}\".format(\"Device Name\", \" PID \", \"User\", \"Process Cmdline\"))\n",
        "    print(\"{0:16} {1:5} {2:30} {3:60}\".format(\"-\"*11, \"-\"*5,  \"-\"*20, \"-\"*12))\n",
        "    for process in list(query):\n",
        "        device_name = process.get(\"device_name\")\n",
        "        process_pid = process.get(\"process_pid\", [0])[0]\n",
        "        process_username = process.get(\"process_username\", [\"\"])[0]\n",
        "        try:\n",
        "            process_cmdline = process.get(\"process_cmdline\", [\"\"])[0]\n",
        "        except Exception as e:\n",
        "            process_cmdline = \"\"\n",
        "\n",
        "        print(\"{0:16} {1:5} {2:30} {3:60}\".format(device_name,\n",
        "                                                  process_pid,\n",
        "                                                  process_username,\n",
        "                                                  process_cmdline))"
      ],
      "execution_count": null,
      "outputs": []
    },
    {
      "cell_type": "code",
      "metadata": {
        "id": "ENhByuEmlahH"
      },
      "source": [
        "get_processes(device_id, \"-1h\")"
      ],
      "execution_count": null,
      "outputs": []
    },
    {
      "cell_type": "markdown",
      "metadata": {
        "id": "Vlt3s7RvEN8L"
      },
      "source": [
        "## Search for a process’ metadata by process GUID\n",
        "Get the most up to date metadata of a specific process. Very useful for process & cmdline information following a watchlist hit.\n",
        "\n",
        "See the [Process Details API](https://developer.carbonblack.com/reference/carbon-black-cloud/platform/latest/platform-search-api-processes/#request-details-of-processes-v2) documentation for more info.\n",
        "\n",
        "---\n",
        "\n",
        "| Permission | CREATE | READ | UPDATE | EXECUTE | DELETE |\n",
        "| ---------- | :----: | :--: | :----: | :-----: | :----: |\n",
        "| **org.search.events** | ☑️ | ☑️ |  |  |  |\n"
      ]
    },
    {
      "cell_type": "code",
      "metadata": {
        "id": "BeaVetm6rOhg"
      },
      "source": [
        "from cbc_sdk.platform import Process\n",
        "\n",
        "def get_process_metadata(process_guid, fields=None):\n",
        "    try:\n",
        "        details = cbc_sdk.select(Process, process_guid).get_details()\n",
        "        if fields:\n",
        "            for field in fields:\n",
        "                print(\"{}: {}\".format(field, details.get(field)))\n",
        "        else:\n",
        "            print(json.dumps(details, indent=4))\n",
        "        return details\n",
        "    except Exception as e:\n",
        "        print(\"Process {} not found {}\".format(process_guid, e))"
      ],
      "execution_count": null,
      "outputs": []
    },
    {
      "cell_type": "code",
      "metadata": {
        "id": "-eWEsN-bkjin"
      },
      "source": [
        "details = get_process_metadata('7DESJ9GN-00452906-00001c18-00000000-1d79dfa2bdc9fe8', [\"process_cmdline\", \"process_username\"])\n",
        "# details = get_process_metadata('7DESJ9GN-00452906-00001c18-00000000-1d79dfa2bdc9fe8')"
      ],
      "execution_count": null,
      "outputs": []
    },
    {
      "cell_type": "markdown",
      "metadata": {
        "id": "i1JZBN-zsHuc"
      },
      "source": [
        "## Search for Enriched Events \n",
        "Get enriched events matching a query.  \n",
        "\n",
        "> **Requirements:** Endpoint Standard  \n",
        "\n",
        "Examples:\n",
        "* Find all external network connections made from a specific endpoint.\n",
        "* Find all endpoints that have seen a specific registry key modification.\n",
        "\n",
        "See the [Enriched Events Search API](https://developer.carbonblack.com/reference/carbon-black-cloud/cb-defense/latest/platform-search-api-enriched-events/) documentation for more info.\n",
        "\n",
        "---\n",
        "\n",
        "| Permission | CREATE | READ | UPDATE | EXECUTE | DELETE |\n",
        "| ---------- | :----: | :--: | :----: | :-----: | :----: |\n",
        "| **org.search.events** | ☑️ | ☑️ |  |  |  |\n"
      ]
    },
    {
      "cell_type": "code",
      "metadata": {
        "id": "QW-csbMc0GtZ"
      },
      "source": [
        "from cbc_sdk.endpoint_standard import EnrichedEvent\n",
        "\n",
        "def search_enriched_events(query_str, window=\"-1d\", fields=None):\n",
        "    query = cbc_sdk.select(EnrichedEvent).where(query_str).set_time_range(window=window)\n",
        "    events = list(query)\n",
        "    for event in events:\n",
        "        event = event.get_details()\n",
        "        if fields:\n",
        "            for field in fields:\n",
        "                print(\"{}: {}\".format(field, event.get(field)))\n",
        "            print(\"-\"*20)\n",
        "        else:\n",
        "            print(event) \n",
        "    return events"
      ],
      "execution_count": null,
      "outputs": []
    },
    {
      "cell_type": "code",
      "metadata": {
        "id": "WiPeF-Izg886"
      },
      "source": [
        "query = \"event_type:netconn AND device_id:{0}\".format(device_id)\n",
        "events = search_enriched_events(query, window=\"-1h\", \n",
        "    fields=[\"device_name\", \"netconn_domain\", \"event_network_remote_port\", \"process_cmdline\"])"
      ],
      "execution_count": null,
      "outputs": []
    },
    {
      "cell_type": "markdown",
      "metadata": {
        "id": "VIcd_cvrCY08"
      },
      "source": [
        "## Get Alerted Events\n",
        "Get the enriched events associated with an Analytics alert, which includes critical alert triage information such as the process cmdline. \n",
        "\n",
        "---\n",
        "\n",
        "| Permission | CREATE | READ | UPDATE | EXECUTE | DELETE |\n",
        "| ---------- | :----: | :--: | :----: | :-----: | :----: |\n",
        "| **org.alerts** |  | ☑️ |  |  |  |\n",
        "| **org.search.events** | ☑️ | ☑️ |  |  |  |"
      ]
    },
    {
      "cell_type": "code",
      "metadata": {
        "id": "i1cyZWZyGD9J"
      },
      "source": [
        "from cbc_sdk.platform import CBAnalyticsAlert\n",
        "from cbc_sdk.endpoint_standard import EnrichedEvent\n",
        "\n",
        "def get_alerted_events(alert_id, silent=False, fields=None):\n",
        "    alert = cbc_sdk.select(CBAnalyticsAlert, alert_id)\n",
        "    events = alert.get_events()\n",
        "    if not silent:\n",
        "        for event in events:\n",
        "            if fields:\n",
        "                for field in fields:\n",
        "                    print(\"{}: {}\".format(field, event.get(field)))\n",
        "            else:\n",
        "                print(event)\n",
        "    return events"
      ],
      "execution_count": null,
      "outputs": []
    },
    {
      "cell_type": "code",
      "metadata": {
        "id": "Xuyl7iP7kmW9"
      },
      "source": [
        "events = get_alerted_events('4477443a2558fcdf99d11eb935515fc69969bb2')"
      ],
      "execution_count": null,
      "outputs": []
    },
    {
      "cell_type": "markdown",
      "metadata": {
        "id": "Fp6u1iIEDl08"
      },
      "source": [
        "## Get Device(s) Info\n",
        "\n",
        "Get the latest information about devices/endpoints, including the state, OS, sensor version, and last check-in \n",
        "\n",
        " - [ReadTheDocs](https://carbon-black-cloud-python-sdk.readthedocs.io/en/latest/cbc_sdk.platform/#module-cbc_sdk.platform.devices)\n",
        " - [Developer Documentation](https://developer.carbonblack.com/reference/carbon-black-cloud/platform/latest/devices-api/#search-devices) \n",
        " - [Device Schema (available fields)](https://developer.carbonblack.com/reference/carbon-black-cloud/platform/latest/devices-api/#schemas)\n",
        "\n",
        "---\n",
        "\n",
        "| Permission | CREATE | READ | UPDATE | EXECUTE | DELETE |\n",
        "| ---------- | :----: | :--: | :----: | :-----: | :----: |\n",
        "| **device** |        |  ☑️   |       |         |        |\n"
      ]
    },
    {
      "cell_type": "code",
      "metadata": {
        "id": "iZTen-ZEYYGL"
      },
      "source": [
        "from cbc_sdk.platform import Device\n",
        "\n",
        "def get_devices(query_str=\"\"):\n",
        "    query = cbc_sdk.select(Device).where(query_str)\n",
        "    query = query.sort_by('id', 'ASC')\n",
        "    devices = list(query)\n",
        "    print(\"{0:9} {1:20} {2:15} {3:18} {4:25} {5}\".format(\"ID\", \"Hostname\", \"OS\", \"IP Address\", \"Last Checkin Time\", \"Status\"))\n",
        "    for device in devices:\n",
        "        # print(vars(device))\n",
        "        print(\"{0:9} {1:20} {2:15} {3:18} {4:25} {5:20}\".format(\n",
        "            device.get(\"id\") or \"-\", \n",
        "            device.get(\"name\") or \"-\",\n",
        "            device.get(\"os_version\") or \"Unknown\",\n",
        "            device.get(\"last_internal_ip_address\") or \"Unknown\",\n",
        "            device.get(\"last_contact_time\") or \"Never\",\n",
        "            device.get(\"status\") or \"Unknown\"))"
      ],
      "execution_count": null,
      "outputs": []
    },
    {
      "cell_type": "code",
      "metadata": {
        "id": "gjbqo4T-mpv9"
      },
      "source": [
        "query = input('Enter search term: ')\n",
        "get_devices(query)"
      ],
      "execution_count": null,
      "outputs": []
    },
    {
      "cell_type": "markdown",
      "metadata": {
        "id": "Ji06NvegITcH"
      },
      "source": [
        "## Download Binary (from UBS) \n",
        "\n",
        "Fetch a potentially malicious binary and send to a sandbox for analysis \n",
        "\n",
        "[ReadTheDocs](https://carbon-black-cloud-python-sdk.readthedocs.io/en/latest/cbc_sdk.enterprise_edr/#module-cbc_sdk.enterprise_edr.ubs)"
      ]
    },
    {
      "cell_type": "code",
      "metadata": {
        "id": "xdbawwAzITBQ"
      },
      "source": [
        "from cbc_sdk.enterprise_edr import Binary\n",
        "\n",
        "def download_binary(sha256):\n",
        "    binary = Binary(cbc_sdk, sha256.lower())\n",
        "    download_url = binary.download_url()\n",
        "    print('Download URL: {0}'.format(download_url))"
      ],
      "execution_count": null,
      "outputs": []
    },
    {
      "cell_type": "code",
      "metadata": {
        "id": "K7C4KPBSnjdC"
      },
      "source": [
        "download_binary('80B110B91730729BE60C7D79C55FFF0EC893FD4CFB5F44D04C433EE8E95C5E20')"
      ],
      "execution_count": null,
      "outputs": []
    },
    {
      "cell_type": "markdown",
      "metadata": {
        "id": "x8XjuLJALU1i"
      },
      "source": [
        "## Get Logged In Users\n",
        "Get a list of users currently logged in to a set of endpoints\n",
        "> **Requirements:** Audit & Remediation  \n",
        "\n",
        "Examples:\n",
        "* Identify who was logged in following a credential scraping alert\n",
        "\n",
        "---\n",
        "\n",
        "| Permission | CREATE | READ | UPDATE | EXECUTE | DELETE |\n",
        "| ---------- | :----: | :--: | :----: | :-----: | :----: |\n",
        "| **org.livequery.manage** | ☑️ | ☑️ |  |  |  |\n"
      ]
    },
    {
      "cell_type": "code",
      "metadata": {
        "id": "AiuO4hGRLdJd"
      },
      "source": [
        "from cbc_sdk.audit_remediation import Run, Result\n",
        "from datetime import datetime\n",
        "import time\n",
        "\n",
        "def get_logged_in_users(device_ids):\t\t\n",
        "    try:\n",
        "      # Run the Live Query on only specific endpoints\n",
        "      live_query = cbc_sdk.select(Run).where(sql=\"SELECT * FROM logged_in_users\").device_ids(device_ids).name(\"CBC SDK: Credential Scraping (Logged In Users)\")\n",
        "      live_query_run = live_query.submit()\t\n",
        "      submit_time = datetime.utcnow()\n",
        "      while live_query_run.status != \"COMPLETE\":\n",
        "          refresh = live_query_run._refresh()\n",
        "          if live_query_run.status == \"COMPLETE\" or (datetime.utcnow() - submit_time).seconds > 600:\n",
        "              results = list(cbc_sdk.select(Result).run_id(live_query_run.id))\n",
        "              matched = [result for result in results if result.status == \"matched\"]\n",
        "              print(\"{0:30} {1:10} {2:10} {3:30} {4:10} {5:10} {6}\".format(\"Device Name\", \"Device ID\", \"OS\", \"User\", \"Type\", \"Session\", \"Time\"))\n",
        "              for result in matched:\n",
        "                  print(\"{0:30} {1:10} {2:10} {3:30} {4:10} {5:10} {6}\".format(\n",
        "                      result.device.get(\"name\"),\n",
        "                      result.device.get(\"id\"),\n",
        "                      result.device.get(\"os\"),\n",
        "                      result.fields.get(\"user\"),\n",
        "                      result.fields.get(\"type\"),\n",
        "                      result.fields.get(\"tty\"),\n",
        "                      datetime.fromtimestamp(result.fields.get(\"time\")).isoformat()))\n",
        "              break\n",
        "          time.sleep(5)\n",
        "          \n",
        "    except Exception as e:\n",
        "      print(\"Failed to get logged in users with error: {}\".format(e))"
      ],
      "execution_count": null,
      "outputs": []
    },
    {
      "cell_type": "code",
      "metadata": {
        "id": "mxP7QBemnriG"
      },
      "source": [
        "get_logged_in_users([device_id])"
      ],
      "execution_count": null,
      "outputs": []
    },
    {
      "cell_type": "markdown",
      "metadata": {
        "id": "aVyzU6HTmJVJ"
      },
      "source": [
        "## Get Report Info\n",
        "Gets the information about a Report including the description, link, and tags\n",
        "For use after a Watchlist Alert has fired.\n",
        "* Requires Enterprise EDR\n",
        "\n",
        "---\n",
        "\n",
        "| Permission | CREATE | READ | UPDATE | EXECUTE | DELETE |\n",
        "| ---------- | :----: | :--: | :----: | :-----: | :----: |\n",
        "| **org.feeds** |  | ☑️ |  |  |  |\n",
        "| **org.watchlists** |  | ☑️ |  |  |  |"
      ]
    },
    {
      "cell_type": "code",
      "metadata": {
        "id": "CVX4bsHQmbSu"
      },
      "source": [
        "from cbc_sdk.enterprise_edr import Watchlist, Report\n",
        "\n",
        "def get_report_info(watchlist_id, report_id):\n",
        "    watchlist = cbc_sdk.select(Watchlist, watchlist_id)\n",
        "    if watchlist.classifier.get(\"key\") == \"feed_id\":\n",
        "        watchlist_reports = watchlist.feed.reports\n",
        "\n",
        "    else:\n",
        "        watchlist_reports = watchlist.reports\n",
        "\n",
        "    try:\n",
        "        report = [r for r in watchlist_reports if report_id == \"{}-{}\".format(watchlist.classifier.get(\"value\"), r.id)]\n",
        "        report = report[0]\n",
        "        print(\"Report: {}\\n\\tWatchlist(s): {}\\n\\tSeverity: {}\\n\\tDescription: {}\\n\\tTags: {}\\n\\tLink: {}\".format(\n",
        "            report.get(\"title\"), \n",
        "            watchlist.get(\"name\"), \n",
        "            report.get('severity'), \n",
        "            report.get(\"description\",\"None\").replace(\"\\n\",\"\\n\\t\\t\"),\n",
        "            \",\".join(report.get(\"tags\", [\"None\"])),\n",
        "            report.get(\"link\")))\n",
        "\n",
        "    except:\n",
        "      print(\"Report: (Deleted)\\n\\tWatchlist(s): {}\".format(watchlist.get(\"name\")))"
      ],
      "execution_count": null,
      "outputs": []
    },
    {
      "cell_type": "code",
      "metadata": {
        "id": "CCtczN5cn_-M"
      },
      "source": [
        "get_report_info(\"uxgHiAbKT2aQQlzFZWQT4Q\", \"FFAGQQZQRmOhg0clEA5V1g-c46f2504-fce8-4aac-836b-1fb5b4cd0997\")"
      ],
      "execution_count": null,
      "outputs": []
    },
    {
      "cell_type": "markdown",
      "metadata": {
        "id": "f1KOueZSyf7K"
      },
      "source": [
        "# SOAR Actions: Remediation"
      ]
    },
    {
      "cell_type": "markdown",
      "metadata": {
        "id": "52jB-hRezMV6"
      },
      "source": [
        "## Ban a process hash\n",
        "Add a sha256 process hash to the banned list via Reputation Overrides\n",
        "\n",
        "---\n",
        "\n",
        "| Permission | CREATE | READ | UPDATE | EXECUTE | DELETE |\n",
        "| ---------- | :----: | :--: | :----: | :-----: | :----: |\n",
        "| **org.reputations** | ☑️ |  |  |  |  |\n"
      ]
    },
    {
      "cell_type": "code",
      "metadata": {
        "id": "wB0nFAiuze9O"
      },
      "source": [
        "from cbc_sdk.platform import ReputationOverride\n",
        "\n",
        "def ban_hash(sha256_hash, process_name, description=\"Banned via CBC SDK\"):\n",
        "    try:\n",
        "        ban = ReputationOverride.create(cbc_sdk, {\n",
        "            \"description\": description,\n",
        "            \"override_list\": \"BLACK_LIST\",\n",
        "            \"override_type\": \"SHA256\",\n",
        "            \"sha256_hash\": sha256_hash,\n",
        "            \"filename\": process_name\n",
        "        })\n",
        "        print(\"Successfully banned sha256 hash '{}' of process '{}' with comment '{}'\".format(sha256_hash, process_name, description))\n",
        "\n",
        "    except Exception as e:\n",
        "        print(\"Failed to ban sha256 hash '{}' of process '{}'. Error: {}\".format(sha256_hash, process_name, e))"
      ],
      "execution_count": null,
      "outputs": []
    },
    {
      "cell_type": "code",
      "metadata": {
        "id": "-Wj7L8JEojrF"
      },
      "source": [
        "ban_hash(\"bffd6d1920f1356a5be00c9c3aef02e2664ad50d5c40d5a21575e9000834c7ad\", \"rat_sakula.exe\", \"Malicious Sakula v1.0 RAT (banned by CBC SDK)\")"
      ],
      "execution_count": null,
      "outputs": []
    },
    {
      "cell_type": "markdown",
      "metadata": {
        "id": "H6VnbNQdD8vU"
      },
      "source": [
        "## Isolate (Quarantine) device\n",
        "When the endpoint is suspected to be compromised, isolate it so that the only network communication allowed is with Carbon Black Cloud.\n",
        "\n",
        "---\n",
        "\n",
        "| Permission | CREATE | READ | UPDATE | EXECUTE | DELETE |\n",
        "| ---------- | :----: | :--: | :----: | :-----: | :----: |\n",
        "| **device** |  | ☑️ |  |  |  |\n",
        "| **device.quarantine** |  |  |  | ☑️ |  |\n",
        "\n",
        "[ReadTheDocs](https://carbon-black-cloud-python-sdk.readthedocs.io/en/latest/cbc_sdk.platform/#cbc_sdk.platform.devices.Device.quarantine) | [API Documentation](https://developer.carbonblack.com/reference/carbon-black-cloud/platform/latest/devices-api/#quarantine)"
      ]
    },
    {
      "cell_type": "code",
      "metadata": {
        "id": "dqhlMT0ngtco"
      },
      "source": [
        "from cbc_sdk.platform import Device\n",
        "\n",
        "def isolate_device(device_id):\n",
        "    device = cbc_sdk.select(Device, device_id)\n",
        "    device.quarantine(True)"
      ],
      "execution_count": null,
      "outputs": []
    },
    {
      "cell_type": "code",
      "metadata": {
        "id": "Ob1pU7L8opMM"
      },
      "source": [
        "isolate_device(device_id)"
      ],
      "execution_count": null,
      "outputs": []
    },
    {
      "cell_type": "markdown",
      "metadata": {
        "id": "QB5GLJ5TDyxn"
      },
      "source": [
        "## Move device to new Policy\n",
        "Move the endpoint to a more restrictive policy (e.g. one that does not allow powershell or any unknown processes to execute) \n",
        "\n",
        "Move the asset to a policy that has LiveResponse enabled, required for LiveResponse actions. \n",
        "\n",
        "---\n",
        "\n",
        "| Permission | CREATE | READ | UPDATE | EXECUTE | DELETE |\n",
        "| ---------- | :----: | :--: | :----: | :-----: | :----: |\n",
        "| **device** |  | ☑️ |  |  |  |\n",
        "| **device.policy** |  |  | ☑️ |  |  |\n",
        "\n",
        "[ReadTheDocs](https://carbon-black-cloud-python-sdk.readthedocs.io/en/latest/cbc_sdk.platform/#cbc_sdk.platform.devices.Device.policy_id) | [API Documentation](https://developer.carbonblack.com/reference/carbon-black-cloud/platform/latest/devices-api/#update-policy)\n"
      ]
    },
    {
      "cell_type": "code",
      "metadata": {
        "id": "LM1LeLa1gIpi"
      },
      "source": [
        "from cbc_sdk.platform import Device\n",
        "\n",
        "def move_device_to_policy(device_id, policy_id):\n",
        "    device = cbc_sdk.select(Device, device_id)\n",
        "    device.update_policy(policy_id)"
      ],
      "execution_count": null,
      "outputs": []
    },
    {
      "cell_type": "code",
      "metadata": {
        "id": "sJ3IR3kxotrA"
      },
      "source": [
        "move_device_to_policy(device_id, 6529)"
      ],
      "execution_count": null,
      "outputs": []
    },
    {
      "cell_type": "markdown",
      "metadata": {
        "id": "hCGYxbzSUiEd"
      },
      "source": [
        "## Live Response\n",
        "\n",
        "Live Response is a set of APIs that allows the user to take actions on the endpoint, similar to a terminal."
      ]
    },
    {
      "cell_type": "markdown",
      "metadata": {
        "id": "w73Hbdiml-SX"
      },
      "source": [
        "### Start a Live Response Session\n"
      ]
    },
    {
      "cell_type": "code",
      "metadata": {
        "id": "nPfVhmuzmqLf"
      },
      "source": [
        "from cbc_sdk.platform import Device\n",
        "\n",
        "def start_session(device_id):\n",
        "    device = cbc_sdk.select(Device, device_id)\n",
        "    lr = device.lr_session()\n",
        "    return lr\n",
        "\n",
        "def end_session(lr_session):\n",
        "    lr_session.close()"
      ],
      "execution_count": null,
      "outputs": []
    },
    {
      "cell_type": "code",
      "metadata": {
        "id": "kUhMedEMvSOb"
      },
      "source": [
        "lr_session = start_session(device_id)"
      ],
      "execution_count": null,
      "outputs": []
    },
    {
      "cell_type": "markdown",
      "metadata": {
        "id": "Iqk7h3aP1lVT"
      },
      "source": [
        "### List running processes on an endpoint \n",
        "\n",
        "Identify if the malicious process is still running\n",
        "\n",
        "See the [Live Response API](https://developer.carbonblack.com/reference/carbon-black-cloud/platform/latest/live-response-api/) documentation for more info.\n",
        "\n",
        "---\n",
        "\n",
        "| Permission                   | CREATE | READ | UPDATE | EXECUTE | DELETE |\n",
        "| ---------------------------- | :----: | :--: | :----: | :-----: | :----: |\n",
        "| **org.liveresponse.session** |  ☑️    |  ☑️   |   ☑️   |         |   ☑️   |\n",
        "| **org.liveresponse.process** |        |  ☑️  |        |         |        |\n"
      ]
    },
    {
      "cell_type": "code",
      "metadata": {
        "id": "SpzE_rAK10s1"
      },
      "source": [
        "from cbc_sdk.platform import Device\n",
        "\n",
        "def list_running_processes(device_id, silent=False):\n",
        "    device = cbc_sdk.select(Device, device_id)\n",
        "    \n",
        "    # The `with` statement will close the session when the task is complete\n",
        "    with device.lr_session() as lr:\n",
        "        running_processes = lr.list_processes()\n",
        "        if not silent:\n",
        "          print(\"{0:5} {1:60}\".format(\" PID\", \"Process Command\"))\n",
        "          print(\"{0:5} {1:60}\".format('-'*5, '-'*60))\n",
        "          for process in running_processes:\n",
        "              print('{0:5} {1:60}'.format(process['process_pid'], process['process_cmdline']))\n",
        "        return running_processes"
      ],
      "execution_count": null,
      "outputs": []
    },
    {
      "cell_type": "code",
      "metadata": {
        "id": "9rSBIVzWmwwc"
      },
      "source": [
        "processes = list_running_processes(device_id)"
      ],
      "execution_count": null,
      "outputs": []
    },
    {
      "cell_type": "markdown",
      "metadata": {
        "id": "D0AMzlWK6jC7"
      },
      "source": [
        "### Kill a process on an endpoint\n",
        "Kill a running process on the specified endpoint by name or pid.  \n",
        "\n",
        "---\n",
        "\n",
        "| Permission | CREATE | READ | UPDATE | EXECUTE | DELETE |\n",
        "| ---------- | :----: | :--: | :----: | :-----: | :----: |\n",
        "| **org.liveresponse.session** | ☑️ | ☑️ | ☑️ |  | ☑️ |\n",
        "| **org.liveresponse.process** |  | ☑️ |  |  | ☑️ |\n",
        "| **org.device** |  | ☑️ |  |  |  |\n",
        "\n",
        "[ReadTheDocs](https://carbon-black-cloud-python-sdk.readthedocs.io/en/latest/cbc_sdk.platform/#cbc_sdk.platform.devices.Device.lr_session) | [API Documentation](https://developer.carbonblack.com/reference/carbon-black-cloud/platform/latest/live-response-api/#kill)\n",
        "\n"
      ]
    },
    {
      "cell_type": "code",
      "metadata": {
        "id": "OeCuVOls6o-8"
      },
      "source": [
        "from cbc_sdk.platform import Device\n",
        "\n",
        "def kill_process_by_pid(lr_session, device_id, process_pid):\n",
        "    device = cbc_sdk.select(Device, device_id)\n",
        "    try:\n",
        "        # with device.lr_session() as lr:\n",
        "        lr_session.kill_process(process_pid)\n",
        "        print(\"Successfully killed process pid '{}' on device '{}' (ID={})\".format(process_pid, device.get(\"name\"), device_id))\n",
        "\n",
        "    except Exception as e:\n",
        "        print(\"Failed to kill process pid '{}' on device '{}' (ID={}) with error: {}\".format(process_pid, device.get(\"name\"), device_id, e))"
      ],
      "execution_count": null,
      "outputs": []
    },
    {
      "cell_type": "code",
      "metadata": {
        "id": "16ZURI_npaRE"
      },
      "source": [
        "kill_process_by_pid(lr_session, device_id, 3876)"
      ],
      "execution_count": null,
      "outputs": []
    },
    {
      "cell_type": "code",
      "metadata": {
        "id": "5ahOJDyZX-4k"
      },
      "source": [
        "from cbc_sdk.platform import Device\n",
        "\n",
        "def kill_process_by_path(device_id, process_path):\n",
        "    device = cbc_sdk.select(Device, device_id)\n",
        "    try:\n",
        "        with device.lr_session() as lr:\n",
        "            success = False\n",
        "            processes = lr.list_processes()\n",
        "            for process in processes:\n",
        "                if process.get('process_path') == process_path:\n",
        "                    lr.kill_process(process.get('process_pid'))\n",
        "                    success = True\n",
        "                    print(\"Successfully killed process '{}' pid '{}' on device '{}' (ID={})\".format(process.get('process_pid'), device.get(\"name\"), device_id))\n",
        "\n",
        "                if not success:\n",
        "                    print(\"Failed to kill process '{}' on device '{}' (ID={}) with error: Process not found\".format(process_path, device.get(\"name\"), device_id, e))\n",
        "\n",
        "    except Exception as e:\n",
        "        print(\"Failed to kill process '{}' on device '{}' (ID={}) with error: {}\".format(process_path, device.get(\"name\"), device_id, e))"
      ],
      "execution_count": null,
      "outputs": []
    },
    {
      "cell_type": "code",
      "metadata": {
        "id": "qdafGwEovay9"
      },
      "source": [
        "kill_process_by_path(device_id, \"c:\\\\windows\\\\system32\\\\ping.exe\")"
      ],
      "execution_count": null,
      "outputs": []
    },
    {
      "cell_type": "markdown",
      "metadata": {
        "id": "BS6JJ1ckdBFF"
      },
      "source": [
        "### List a directory on an endpoint\n",
        "\n",
        "---\n",
        "\n",
        "| Permission | CREATE | READ | UPDATE | EXECUTE | DELETE |\n",
        "| ---------- | :----: | :--: | :----: | :-----: | :----: |\n",
        "| **org.liveresponse.file** |  | ☑️ |  |  |  |\n",
        "\n",
        "[ReadTheDocs](https://carbon-black-cloud-python-sdk.readthedocs.io/en/latest/cbc_sdk/#cbc_sdk.live_response_api.LiveResponseSession)  | [API Documentation](https://developer.carbonblack.com/reference/carbon-black-cloud/platform/latest/live-response-api/#directory-list)"
      ]
    },
    {
      "cell_type": "code",
      "metadata": {
        "id": "-g4KbwDG47Ev"
      },
      "source": [
        "from cbc_sdk.platform import Device\n",
        "\n",
        "def list_directory(lr_session, folder_path):\n",
        "    folder_path = folder_path.replace('\\\\', '\\\\\\\\')\n",
        "\n",
        "    print(\"{0:10} {1:20} {2:5}\".format('Type', 'Name', 'Size'))\n",
        "    print(\"{0:10} {1:20} {2:5}\".format('----', '----', '----'))\n",
        "\n",
        "    response = lr_session.list_directory(folder_path)\n",
        "    for item in response:\n",
        "        item_type = 'DIR' if 'DIRECTORY' in item['attributes'] else 'FILE'\n",
        "        print('{0:10} {1:20} {2:5}'.format(item_type,\n",
        "                                            item['filename'],\n",
        "                                            item['size']))"
      ],
      "execution_count": null,
      "outputs": []
    },
    {
      "cell_type": "code",
      "metadata": {
        "id": "GxPUmrflpXg0"
      },
      "source": [
        "list_directory(lr_session, 'C:\\\\Users\\\\John Doe\\\\Desktop\\\\')"
      ],
      "execution_count": null,
      "outputs": []
    },
    {
      "cell_type": "markdown",
      "metadata": {
        "id": "ARR8TEFqdsww"
      },
      "source": [
        "### Put a file on an endpoint\n",
        "\n",
        "Upload a file to the endpoint. \n",
        "\n",
        "---\n",
        "\n",
        "| Permission | CREATE | READ | UPDATE | EXECUTE | DELETE |\n",
        "| ---------- | :----: | :--: | :----: | :-----: | :----: |\n",
        "| **org.liveresponse.file** | ☑️ |  |  |  |  |\n",
        "\n",
        "[ReadTheDocs]() | [API Documentation]()"
      ]
    },
    {
      "cell_type": "code",
      "metadata": {
        "id": "21QMrCgZdwYa"
      },
      "source": [
        "from cbc_sdk.platform import Device\n",
        "\n",
        "def upload_file(lr_session, file_path):\n",
        "    # Create the file locally\n",
        "    fp = open('test.bat', 'w')\n",
        "    fp.write('hostname')\n",
        "    fp.close()\n",
        "\n",
        "    file_path = file_path.replace('\\\\', '\\\\\\\\')\n",
        "\n",
        "    lr_session.put_file(open('test.bat', 'r'), file_path)"
      ],
      "execution_count": null,
      "outputs": []
    },
    {
      "cell_type": "code",
      "metadata": {
        "id": "RxxzD0qEpU6B"
      },
      "source": [
        "result = upload_file(lr_session, 'C:\\\\Users\\\\John Doe\\\\Desktop\\\\test.bat')"
      ],
      "execution_count": null,
      "outputs": []
    },
    {
      "cell_type": "markdown",
      "metadata": {
        "id": "pDQtQi2c2CGs"
      },
      "source": [
        "### Execute a custom script on the endpoint\n",
        "\n",
        "Upload and execute a Powershell file on a windows endpoint to gather data or update configuration. \n",
        "\n",
        "Can be combined with the Context “Get a file from an endpoint” if the script generates an output file. \n",
        "\n",
        "---\n",
        "\n",
        "| Permission | CREATE | READ | UPDATE | EXECUTE | DELETE |\n",
        "| ---------- | :----: | :--: | :----: | :-----: | :----: |\n",
        "| **org.liveresponse.process** |  |  |  | ☑️ |  |\n",
        "\n",
        "[ReadTheDocs]()  | [Documentation]()\n",
        "\n"
      ]
    },
    {
      "cell_type": "code",
      "metadata": {
        "id": "nLMzfKPh3qC4"
      },
      "source": [
        "from cbc_sdk.platform import Device\n",
        "\n",
        "def execute_script(lr_session, file_path):\n",
        "    # Escape the file_path\n",
        "    file_path = file_path.replace('\\\\', '\\\\\\\\')\n",
        "\n",
        "    result = lr_session.create_process(file_path, wait_for_completion=True, wait_for_output=False)\n",
        "    print(result)"
      ],
      "execution_count": null,
      "outputs": []
    },
    {
      "cell_type": "code",
      "metadata": {
        "id": "EFj-73P_pQpO"
      },
      "source": [
        "result = execute_script(lr_session, 'C:\\\\Users\\\\John Doe\\\\Desktop\\\\test.bat')"
      ],
      "execution_count": null,
      "outputs": []
    },
    {
      "cell_type": "markdown",
      "metadata": {
        "id": "HlPHPNNQ8gOk"
      },
      "source": [
        "### Get a file from an endpoint \n",
        "\n",
        "Find and get the full contents of a file from an endpoint\n",
        "Examples:\n",
        "* Get the output of a forensic toolkit previous executed \n",
        "* Get a suspicious MS Office or Powershell file that executed on an endpoint \n",
        "\n",
        "---\n",
        "\n",
        "| Permission | CREATE | READ | UPDATE | EXECUTE | DELETE |\n",
        "| ---------- | :----: | :--: | :----: | :-----: | :----: |\n",
        "| **org.liveresponse.file** |  | ☑️ |  |  |  |"
      ]
    },
    {
      "cell_type": "code",
      "metadata": {
        "id": "EGEwR_ZsB_8Y"
      },
      "source": [
        "def get_file(lr_session, file_path):\n",
        "    # Escape the file_path\n",
        "    file_path = file_path.replace('\\\\', '\\\\\\\\')\n",
        "\n",
        "    file = lr_session.get_file(file_path)\n",
        "    return file"
      ],
      "execution_count": null,
      "outputs": []
    },
    {
      "cell_type": "code",
      "metadata": {
        "id": "LjiRNuMMpLRv"
      },
      "source": [
        "file = get_file(lr_session, 'C:\\\\Users\\\\John Doe\\\\Desktop\\\\test.bat')"
      ],
      "execution_count": null,
      "outputs": []
    },
    {
      "cell_type": "markdown",
      "metadata": {
        "id": "tA9rhrY415Tu"
      },
      "source": [
        "### Delete file on endpoint \n",
        "\n",
        "Delete a malicious file on an endpoint \n",
        "\n",
        "---\n",
        "\n",
        "| Permission | CREATE | READ | UPDATE | EXECUTE | DELETE |\n",
        "| ---------- | :----: | :--: | :----: | :-----: | :----: |\n",
        "| **org.liveresponse.file** |  |  |  |  | ☑️ |\n",
        "\n",
        "[ReadTheDocs]() | [Documentation](https://developer.carbonblack.com/reference/carbon-black-cloud/platform/latest/live-response-api/#delete-file-1)"
      ]
    },
    {
      "cell_type": "code",
      "metadata": {
        "id": "-hYwYUUq1Yne"
      },
      "source": [
        "def delete_file(lr_session, file_path):\n",
        "    # Escape the file_path\n",
        "    file_path = file_path.replace('\\\\', '\\\\\\\\')\n",
        "\n",
        "    lr_session.delete_file(file_path)"
      ],
      "execution_count": null,
      "outputs": []
    },
    {
      "cell_type": "code",
      "metadata": {
        "id": "4cw2FrVhpsAg"
      },
      "source": [
        "delete_file(lr_session, 'C:\\\\Users\\\\John Doe\\\\Desktop\\\\test.bat')"
      ],
      "execution_count": null,
      "outputs": []
    },
    {
      "cell_type": "markdown",
      "metadata": {
        "id": "XB9ewpSY9WBO"
      },
      "source": [
        "# SOAR Actions: Orchestration"
      ]
    },
    {
      "cell_type": "markdown",
      "metadata": {
        "id": "XWPYmoay4kbU"
      },
      "source": [
        "## Dismiss an alert (with or without a comment) \n",
        "\n",
        "Dismiss the alert in Carbon Black Cloud with comments; if an analyst looks in the CBC console, they will no longer see that alert and mistakenly triage it. \n",
        "\n",
        "[ReadTheDocs](https://carbon-black-cloud-python-sdk.readthedocs.io/en/latest/cbc_sdk.platform/#cbc_sdk.platform.alerts.BaseAlert.dismiss) | [Documentation](https://developer.carbonblack.com/reference/carbon-black-cloud/platform/latest/alerts-api/#create-workflow)\n",
        "\n",
        "---\n",
        "\n",
        "| Permission | CREATE | READ | UPDATE | EXECUTE | DELETE |\n",
        "| ---------- | :----: | :--: | :----: | :-----: | :----: |\n",
        "| **org.alerts** |  | ☑️ |  |  |  |\n",
        "| **org.alerts.dismiss** |  |  |  | ☑️ |  |"
      ]
    },
    {
      "cell_type": "code",
      "metadata": {
        "id": "wEVjml_4-s9i"
      },
      "source": [
        "from cbc_sdk.platform import BaseAlert\n",
        "\n",
        "def dismiss_alert(alert_id, comment=\"Dismissed by CBC SDK\"):\n",
        "    try:\n",
        "        alert = cbc_sdk.select(BaseAlert, alert_id)\n",
        "        alert.dismiss(comment=comment)\n",
        "        print(\"Successfully dismissed alert ID '{}' (Device='{}', Device ID='{}', Reason='{}')\".format(alert_id, alert.get(\"device_name\"), alert.get(\"device_id\"), alert.get(\"reason\")))\n",
        "\n",
        "    except Exception as e:\n",
        "        print(\"Failed to dismiss alert ID '{}' with error: {}\".format(alert_id, e))"
      ],
      "execution_count": null,
      "outputs": []
    },
    {
      "cell_type": "code",
      "metadata": {
        "id": "6LoXRllKqIdp"
      },
      "source": [
        "dismiss_alert(\"a31c6808-198f-48b8-8215-4f6255a7b0ea\")"
      ],
      "execution_count": null,
      "outputs": []
    },
    {
      "cell_type": "markdown",
      "metadata": {
        "id": "Ol-f61PVI3QO"
      },
      "source": [
        "# End-to-End: Watchlist Alert Triage"
      ]
    },
    {
      "cell_type": "markdown",
      "metadata": {
        "id": "UdUUhRefBz0i"
      },
      "source": [
        "## Get recent high severity Watchlist Alerts\n",
        "Summarize the alert count and impacted devices"
      ]
    },
    {
      "cell_type": "code",
      "metadata": {
        "id": "1E-CP8apJOdi"
      },
      "source": [
        "query = \"watchlist AND alert_severity:[8 TO *] AND device_id:{0}\".format(device_id)\n",
        "alerts = get_alerts(query, \"-1d\")"
      ],
      "execution_count": null,
      "outputs": []
    },
    {
      "cell_type": "markdown",
      "metadata": {
        "id": "AzfUJpVfCLwH"
      },
      "source": [
        "## Show each alert\n",
        "Show the basics of each Watchlist alert - the report, watchlist, severity, device, and timestamp."
      ]
    },
    {
      "cell_type": "code",
      "metadata": {
        "id": "ODkn5F7vCTYI"
      },
      "source": [
        "print(\"{0:100} {1:50} {2:10} {3:30} {4}\".format(\"Report\", \"Watchlist(s)\", \"Severity\", \"Device Name\", \"Last Updated\"))\n",
        "for alert in alerts: \n",
        "\t# A report can belong to multiple watchlists; comma separate them\n",
        "\tprint(\"{0:100} {1:50} {2:10} {3:30} {4}\".format(\n",
        "\t\talert.get('report_name'), \n",
        "\t\t\", \".join([watchlist.get(\"name\") for watchlist in alert.watchlists]),\n",
        "\t\talert.get('severity'), \n",
        "\t\talert.get('device_name'), \n",
        "\t\talert.get('last_update_time')))"
      ],
      "execution_count": null,
      "outputs": []
    },
    {
      "cell_type": "markdown",
      "metadata": {
        "id": "afL2WUq7Cm5O"
      },
      "source": [
        "## Add report details\n",
        "Get additional context about the report, such as description and tags."
      ]
    },
    {
      "cell_type": "code",
      "metadata": {
        "id": "cjirD7amYU33"
      },
      "source": [
        "for alert in alerts[0:3]: \n",
        "\t# A report can belong to multiple watchlists; comma separate them\n",
        "    print(\"Device: {} (ID={})\\nIOC Hit: '{}'\".format(alert.get(\"device_name\"), alert.get(\"device_id\"), alert.get(\"ioc_hit\")))\n",
        "    get_process_metadata(alert.get(\"process_guid\"), [\"process_name\", \"process_cmdline\", \"process_username\", \"parent_name\", \"parent_cmdline\"])\n",
        "    get_report_info(alert.get(\"watchlists\")[0].get(\"id\"), alert.get(\"report_id\"))\n",
        "    print(\"-\"*50)"
      ],
      "execution_count": null,
      "outputs": []
    },
    {
      "cell_type": "markdown",
      "metadata": {
        "id": "C1-BGSEz5lQz"
      },
      "source": [
        "# End-to-End: Malware\n",
        "Identify, investigate, and remediate a Malware incident"
      ]
    },
    {
      "cell_type": "markdown",
      "metadata": {
        "id": "2YmmpPjafr-d"
      },
      "source": [
        "## Identify Malware\n",
        "Search recent alerts for common TTPs associated with malware."
      ]
    },
    {
      "cell_type": "code",
      "metadata": {
        "id": "z1c_o0vteqGU"
      },
      "source": [
        "query = \"ttp:(RUN_BLACKLIST_APP OR RUN_MALWARE_APP OR DETECTED_MALWARE_APP OR MALWARE_DROP OR COMPANY_BLACKLIST OR DETECTED_BLACKLIST_APP) AND device_id:{0}\".format(device_id)\n",
        "alerts = get_alerts(query, window=\"-1d\")"
      ],
      "execution_count": null,
      "outputs": []
    },
    {
      "cell_type": "markdown",
      "metadata": {
        "id": "Hbb4ybzzVQ2k"
      },
      "source": [
        "## Narrow down to critical alerts\n",
        "Alerts where the malware ran and was not blocked (denied/terminated) are most critical to address with automation"
      ]
    },
    {
      "cell_type": "code",
      "metadata": {
        "id": "D_a3zix0ViNK"
      },
      "source": [
        "critical_alerts = [alert for alert in alerts if alert.get(\"run_state\") == \"RAN\" and alert.get(\"sensor_action\") not in [\"DENY\", \"TERMINATE\"] and alert.get(\"type\") == \"CB_ANALYTICS\" ]\n",
        "for alert in critical_alerts:\n",
        "    print(\"Alert ID: {}\".format(alert.get(\"id\")))\n",
        "    print(\"Alert Reason: {}\".format(alert.get(\"reason\")))\n",
        "    print(\"Run State: {}\".format(alert.get(\"run_state\")))\n",
        "    print(\"Sensor Action: {}\".format(alert.get(\"sensor_action\")))\n",
        "    print(\"Severity: {}\".format(alert.get(\"severity\")))\n",
        "    print(\"TTPS: {}\".format(alert.get(\"threat_indicators\")))\n",
        "    print(alert)\n",
        "    process_details = get_process_metadata(alert.get(\"threat_cause_process_guid\"), fields=[\"device_name\", \"device_id\", \"process_cmdline\", \"process_username\"])\n",
        "    print(\"-\"*20)"
      ],
      "execution_count": null,
      "outputs": []
    },
    {
      "cell_type": "markdown",
      "metadata": {
        "id": "UQyOB1WgfpT1"
      },
      "source": [
        "## Identify if the process is still running\n",
        "For each alert, get the process details. \n",
        "Then use Live Response to identify if the process is still running, and kill it if it is.\n",
        "The exception is any alert where the primary process is 'repmgr.exe', the name of the CBC sensor. This indicates that the sensor detected malware on disk, but the malware has not executed. "
      ]
    },
    {
      "cell_type": "code",
      "metadata": {
        "id": "v-6KKwdEgrl0"
      },
      "source": [
        "for alert in critical_alerts:\n",
        "    if alert.get(\"threat_cause_actor_name\") != \"repmgr.exe\":\n",
        "        process_details = get_process_metadata(alert.get(\"threat_cause_process_guid\"), fields=[\"process_name\",\"process_pid\", \"process_cmdline\"])    \n",
        "        processes = list_running_processes(alert.get(\"device_id\"), silent=True)\n",
        "        found_process_running = False\n",
        "\n",
        "        for process in processes:\n",
        "            # Check the PID + process path to account for the case where the process_pid is re-used\n",
        "            if process.get(\"pid\") == process_details.get(\"process_pid\")[0] and process.get(\"process_path\") == process_details.get(\"process_name\"):\n",
        "                found_process_running = True\n",
        "                break\n",
        "\n",
        "        if found_process_running:\n",
        "            lr_session = start_session(alert.get(\"device_id\"))\n",
        "            kill_process_by_pid(lr_session, alert.get(\"device_id\"), process_details.get(\"process_pid\")[0])\n",
        "\n",
        "        else:\n",
        "            print(\"Process no longer detected running\")\n",
        "    \n",
        "        print(\"--\")"
      ],
      "execution_count": null,
      "outputs": []
    },
    {
      "cell_type": "markdown",
      "metadata": {
        "id": "8i-lR9KKXOlR"
      },
      "source": [
        "## Remove malicious files\n",
        "Identify and remove any files identified by the alert, either those dropped by the malware or the malware itself."
      ]
    },
    {
      "cell_type": "code",
      "metadata": {
        "id": "uqy6eQZyXJhc"
      },
      "source": [
        "from cbc_sdk.platform import CBAnalyticsAlert\n",
        "\n",
        "files_to_delete = {}\n",
        "\n",
        "for alert in critical_alerts:\n",
        "    events = get_alerted_events(alert.get(\"id\"), silent=True)\n",
        "    filemod_events = [event for event in events if event.get(\"event_type\") == \"filemod\"]\n",
        "\n",
        "    for event in filemod_events:\n",
        "        print(\"Device {} (ID={})\".format(alert.get(\"device_name\"), alert.get(\"device_id\")))\n",
        "        for field in [\"filemod_name\", \"filemod_action\", \"filemod_reputation\"]:\n",
        "            print(\"{}: {}\".format(field, event.get(field)))\n",
        "        print(\"-\"*20)\n",
        "\n",
        "    # Add these files to the list of files to delete from the device\n",
        "    files = [event.get(\"filemod_name\") for event in filemod_events]\n",
        "\n",
        "    if alert.get(\"device_id\") not in files_to_delete:\n",
        "        files_to_delete[alert.get(\"device_id\")] = []\n",
        "    files_to_delete[alert.get(\"device_id\")] += files\n",
        "\n",
        "    # On a device-by-device basis, delete the files\n",
        "    for device_id in files_to_delete:\n",
        "        files = list(set(files_to_delete[device_id]))\n",
        "        print(\"Deleting the following files from device ID={}: {}\".format(device_id, files))\n",
        "        lr_session = start_session(device_id)\n",
        "        \n",
        "        for file in files:\n",
        "            print(\"Deleting file '{}'\".format(file))\n",
        "            # delete_file(lr_session, file)\n",
        "        end_session(lr_session)"
      ],
      "execution_count": null,
      "outputs": []
    },
    {
      "cell_type": "markdown",
      "metadata": {
        "id": "5k1AhofQF9Oz"
      },
      "source": [
        "# End-to-End: Credential Scraping"
      ]
    },
    {
      "cell_type": "markdown",
      "metadata": {
        "id": "8fPRY_MaGCf5"
      },
      "source": [
        "## Identify credential scraping\n",
        "Get a list of Devices that have seen credential scraping alerts.\n",
        "This can be found through CB Analytics Alerts with certain TTPs or Watchlist Alerts from specific reports. Alerts where the behavior (sensor action) is 'Allow' should be treated with higher criticality as the credential scraping was not blocked."
      ]
    },
    {
      "cell_type": "code",
      "metadata": {
        "id": "wd9VlYNfGG9t"
      },
      "source": [
        "query = ' OR '.join([\n",
        "    'ttp:READ_SECURITY_DATA',\n",
        "    'ttp:DUMP_PROCESS_MEMORY',\n",
        "    'ttp:MITRE_T1003_OS_CREDENTIAL_DUMP',\n",
        "    'report_name:\"Credential Access - Mimikatz Credential Dumping Detected'\n",
        "])\n",
        "query = '({0}) AND device_id:{1}'.format(query, device_id)\n",
        "\n",
        "alerts = get_alerts(query, window=\"-1d\")"
      ],
      "execution_count": null,
      "outputs": []
    },
    {
      "cell_type": "markdown",
      "metadata": {
        "id": "-nZq4pnRAq-D"
      },
      "source": [
        "## Process Information\n",
        "Get details about each process that triggered a credential scraping alert"
      ]
    },
    {
      "cell_type": "code",
      "metadata": {
        "id": "BE-JsMHI_4cJ"
      },
      "source": [
        "unique_process_guids = list(set([alert.get(\"threat_cause_process_guid\") for alert in alerts]))\n",
        "\n",
        "for process_guid in unique_process_guids:\n",
        "    get_process_metadata(process_guid, fields=[\"device_name\", \"device_id\", \"process_cmdline\", \"process_username\"])\n",
        "    print(\"-\"*20)"
      ],
      "execution_count": null,
      "outputs": []
    },
    {
      "cell_type": "markdown",
      "metadata": {
        "id": "ZnLxhQ8hAJqd"
      },
      "source": [
        "## Who was logged in?\n",
        "Use Live Query to get a list of users currently logged in to the device.\n",
        "If the credential scraping was successful, the passwords of these users may be compromised."
      ]
    },
    {
      "cell_type": "code",
      "metadata": {
        "id": "Q8YtgZ0l__KR"
      },
      "source": [
        "unique_device_ids = list(set([alert.device_id for alert in alerts]))\n",
        "get_logged_in_users(unique_device_ids)"
      ],
      "execution_count": null,
      "outputs": []
    }
  ]
}